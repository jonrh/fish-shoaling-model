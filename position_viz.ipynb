{
 "cells": [
  {
   "cell_type": "markdown",
   "metadata": {
    "collapsed": true
   },
   "source": [
    "A script for running a matplotlib visualization of the shoal model. The end goal is to have a 3D visualization.\n",
    "\n",
    "[Matplotlib simple_anim example](https://matplotlib.org/examples/animation/simple_anim.html)\n",
    "[Tutorial](http://jakevdp.github.io/blog/2012/08/18/matplotlib-animation-tutorial/)"
   ]
  },
  {
   "cell_type": "code",
   "execution_count": 1,
   "metadata": {},
   "outputs": [],
   "source": [
    "from shoal_model_pos_data import ShoalModel\n",
    "import numpy as np\n",
    "import pandas as pd\n",
    "\n",
    "model = ShoalModel(population=100, width=100, height=100, speed=1, vision=10, separation=2)\n",
    "for i in range(10):\n",
    "    model.step()\n",
    "data = model.datacollector.get_model_vars_dataframe()\n",
    "\n",
    "# Get DataFrame into a form that can be exported as .csv\n",
    "data = np.asarray(data)\n",
    "data = data.flatten()  # one set of brackets removed....\n",
    "df = pd.DataFrame(data)\n",
    "output = df[0].apply(pd.Series)  # removed another set of brackets\n",
    "output[0].apply(pd.Series)  # removed last brackets\n",
    "np_output = np.array(output)"
   ]
  },
  {
   "cell_type": "code",
   "execution_count": null,
   "metadata": {},
   "outputs": [],
   "source": [
    "import matplotlib.pyplot as plt\n",
    "from matplotlib import animation\n",
    "\n",
    "# Set up figure, axes, and plot element\n",
    "fig = plt.figure()\n",
    "ax = plt.axes(xlim(0, 100), ylim(0, 100))\n",
    "scatter,  = ax.plot([], [], markersize=2)\n",
    "\n",
    "\n",
    "# Initialization function - background of frames\n",
    "def init():\n",
    "    scatter.set_data([], [])\n",
    "    return scatter, \n",
    "\n",
    "\n",
    "# Animation function - called sequentially\n",
    "def animate(i):\n",
    "    x = output[:, ::2]\n",
    "    y = output[:, 1::2]\n",
    "    scatter.set_data(x, y)\n",
    "    return scatter,  \n",
    "\n",
    "# Call the animator. bilt=True means only re-draw changes\n",
    "anim = animation.FuncAnimation(fig, animate, init_func=init,\n",
    "                               frames=200, interval=20,\n",
    "                               bilt=True)"
   ]
  },
  {
   "cell_type": "code",
   "execution_count": null,
   "metadata": {},
   "outputs": [],
   "source": [
    "style.use('dark_background')\n",
    "\n"
   ]
  }
 ],
 "metadata": {
  "kernelspec": {
   "display_name": "Python 2",
   "language": "python",
   "name": "python2"
  },
  "language_info": {
   "codemirror_mode": {
    "name": "ipython",
    "version": 2.0
   },
   "file_extension": ".py",
   "mimetype": "text/x-python",
   "name": "python",
   "nbconvert_exporter": "python",
   "pygments_lexer": "ipython2",
   "version": "2.7.6"
  }
 },
 "nbformat": 4,
 "nbformat_minor": 0
}