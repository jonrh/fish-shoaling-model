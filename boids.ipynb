{
 "cells": [
  {
   "cell_type": "markdown",
   "metadata": {
    "collapsed": true
   },
   "source": [
    "This is an adaptation of Craig Reynold's Boids model for collective\n",
    "behaviour. Agents follow 3 rules: attraction (cohesion), repulsion\n",
    "(separation), and alignment, which lead to an organized flock or school.\n",
    "\n",
    "The model is built using the Mesa framework for agent-based modeling \n",
    "in Python."
   ]
  },
  {
   "cell_type": "code",
   "execution_count": 8,
   "metadata": {},
   "outputs": [],
   "source": [
    "import numpy as np\n",
    "import matplotlib.pyplot as plt\n",
    "from mesa import Agent\n",
    "%matplotlib inline\n",
    "\n",
    "\n",
    "class Boid(Agent):\n",
    "    \"\"\" A Boid-style flocker agent. Boids have a vision that defines the radius in\n",
    "    which they look for their neighbors to flock with. Their speed (a scalar) and\n",
    "    heading (a unit vector) define their movement. Separation is their desired \n",
    "    minimum distance from any other Boid. \"\"\"\n",
    "    def __init__(self, unique_id, model, pos, speed=5, heading=None,\n",
    "                 vision=5, separation=1):\n",
    "        \"\"\" Create a new Boid flocker agent. Args:\n",
    "            unique_id: Unique agent identifyer.\n",
    "            pos: Starting position\n",
    "            speed: Distance to move per step.\n",
    "            heading: numpy vector for the Boid's direction of movement.\n",
    "            vision: Radius to look around for nearby Boids.\n",
    "            separation: Minimum distance to maintain from other Boids. \"\"\"\n",
    "        super().__init__(unique_id, model)\n",
    "        self.pos = pos\n",
    "        self.speed = speed\n",
    "        if heading is not None:\n",
    "            self.heading = heading\n",
    "        else:\n",
    "            self.heading = np.random.random(2)\n",
    "            self.heading /= np.linalg.norm(self.heading)\n",
    "        self.vision = vision\n",
    "        self.separation = separation\n",
    "\n",
    "    def cohere(self, neighbors):\n",
    "        \"\"\" Return the vector toward the center of mass of the local neighbors. \"\"\"\n",
    "        center = np.array([0.0, 0.0])\n",
    "        for neighbor in neighbors:\n",
    "            center += np.array(neighbor.pos)\n",
    "        return center / len(neighbors)\n",
    "\n",
    "    def separate(self, neighbors):\n",
    "        \"\"\" Return a vector away from any neighbors closer than separation dist. \"\"\"\n",
    "        my_pos = np.array(self.pos)\n",
    "        sep_vector = np.array([0, 0])\n",
    "        for neighbor in neighbors:\n",
    "            their_pos = np.array(neighbor.pos)\n",
    "            dist = np.linalg.norm(my_pos - their_pos)\n",
    "            if dist < self.separation:\n",
    "                sep_vector -= np.int64(their_pos - my_pos)\n",
    "        return sep_vector\n",
    "\n",
    "    def match_heading(self, neighbors):\n",
    "        \"\"\" Return a vector of the neighbors' average heading. \"\"\"\n",
    "        mean_heading = np.array([0, 0])\n",
    "        for neighbor in neighbors:\n",
    "            mean_heading += np.int64(neighbor.heading)\n",
    "        return mean_heading / len(neighbors)\n",
    "\n",
    "    def step(self):\n",
    "        \"\"\" Get the Boid's neighbors, compute the new vector, and move accordingly.\"\"\"\n",
    "        neighbors = self.model.space.get_neighbors(self.pos, self.vision, False)\n",
    "        if len(neighbors) > 0:\n",
    "            cohere_vector = self.cohere(neighbors)\n",
    "            separate_vector = self.separate(neighbors)\n",
    "            match_heading_vector = self.match_heading(neighbors)\n",
    "            self.heading += (cohere_vector +\n",
    "                             separate_vector +\n",
    "                             match_heading_vector)\n",
    "            self.heading /= np.linalg.norm(self.heading)\n",
    "        new_pos = np.array(self.pos) + self.heading * self.speed\n",
    "        new_x, new_y = new_pos\n",
    "        self.model.space.move_agent(self, (new_x, new_y))"
   ]
  },
  {
   "cell_type": "code",
   "execution_count": 9,
   "metadata": {},
   "outputs": [],
   "source": [
    "\"\"\" Uses numpy arrays to represent vectors. \"\"\"\n",
    "\n",
    "import random\n",
    "from mesa import Model\n",
    "from mesa.space import ContinuousSpace\n",
    "from mesa.time import RandomActivation\n",
    "\n",
    "\n",
    "class BoidModel(Model):\n",
    "    \"\"\" Flocker model class. Handles agent creation, placement and scheduling. \"\"\"\n",
    "\n",
    "    def __init__(self, N, width, height, speed, vision, separation):\n",
    "        \"\"\" Create a new Flockers model.\n",
    "        Args:\n",
    "            N: Number of Boids\n",
    "            width, height: Size of the space.\n",
    "            speed: How fast should the Boids move.\n",
    "            vision: How far around should each Boid look for its neighbors\n",
    "            separation: What's the minimum distance each Boid will attempt to\n",
    "                       keep from any other \"\"\"\n",
    "        self.N = N\n",
    "        self.vision = vision\n",
    "        self.speed = speed\n",
    "        self.separation = separation\n",
    "        self.schedule = RandomActivation(self)\n",
    "        self.space = ContinuousSpace(width, height, True,\n",
    "                                     grid_width=10, grid_height=10)\n",
    "        self.make_agents()\n",
    "        self.running = True\n",
    "\n",
    "    def make_agents(self):\n",
    "        \"\"\" Create N agents, with random positions and starting headings. \"\"\"\n",
    "        for i in range(self.N):\n",
    "            x = random.random() * self.space.x_max\n",
    "            y = random.random() * self.space.y_max\n",
    "            pos = (x, y)\n",
    "            heading = np.random.random(2) * 2 - np.array((1, 1))\n",
    "            heading /= np.linalg.norm(heading)\n",
    "            boid = Boid(i, self, pos, self.speed, heading, self.vision,\n",
    "                        self.separation)\n",
    "            self.space.place_agent(boid, pos)\n",
    "            self.schedule.add(boid)\n",
    "\n",
    "    def step(self):\n",
    "        self.schedule.step()"
   ]
  },
  {
   "cell_type": "code",
   "execution_count": 4,
   "metadata": {},
   "outputs": [],
   "source": [
    "def draw_boids(model):\n",
    "    x_vals = []\n",
    "    y_vals = []\n",
    "    for boid in model.schedule.agents:\n",
    "        x, y = boid.pos\n",
    "        x_vals.append(x)\n",
    "        y_vals.append(y)\n",
    "    fig = plt.figure(figsize=(10, 10))\n",
    "    ax = fig.add_subplot(111)\n",
    "    ax.scatter(x_vals, y_vals)"
   ]
  },
  {
   "cell_type": "code",
   "execution_count": 10,
   "metadata": {},
   "outputs": [],
   "source": [
    "model = BoidModel(100, 100, 100, speed=5, vision=5, separation=1)"
   ]
  },
  {
   "cell_type": "code",
   "execution_count": 11,
   "metadata": {},
   "outputs": [],
   "source": [
    "for i in range(50):\n",
    "    model.step()"
   ]
  },
  {
   "cell_type": "code",
   "execution_count": 12,
   "metadata": {},
   "outputs": [
    {
     "data": {
      "image/png": "[encoded data removed]",
      "text/plain": [
       "<matplotlib.figure.Figure at 0x105c53908>"
      ]
     },
     "metadata": {},
     "output_type": "display_data"
    }
   ],
   "source": [
    "draw_boids(model)"
   ]
  },
  {
   "cell_type": "code",
   "execution_count": null,
   "metadata": {},
   "outputs": [],
   "source": [
    ""
   ]
  }
 ],
 "metadata": {
  "kernelspec": {
   "display_name": "Python 2",
   "language": "python",
   "name": "python2"
  },
  "language_info": {
   "codemirror_mode": {
    "name": "ipython",
    "version": 2.0
   },
   "file_extension": ".py",
   "mimetype": "text/x-python",
   "name": "python",
   "nbconvert_exporter": "python",
   "pygments_lexer": "ipython2",
   "version": "2.7.6"
  }
 },
 "nbformat": 4,
 "nbformat_minor": 0
}