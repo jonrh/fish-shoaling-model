{
 "cells": [
  {
   "cell_type": "markdown",
   "metadata": {
    "collapsed": true
   },
   "source": [
    "This is an adaptation of Craig Reynold's Boids model for collective\n",
    "behaviour. Agents follow 3 rules: attraction (cohesion), repulsion\n",
    "(separation), and alignment, which lead to an organized flock or school.\n",
    "\n",
    "The model is built using the Mesa framework for agent-based modeling \n",
    "in Python."
   ]
  },
  {
   "cell_type": "code",
   "execution_count": 10,
   "metadata": {},
   "outputs": [],
   "source": [
    "import numpy as np\n",
    "import matplotlib.pyplot as plt\n",
    "from mesa import Agent\n",
    "%matplotlib inline\n",
    "\n",
    "\n",
    "class Boid(Agent):\n",
    "    \"\"\" A Boid-style flocker agent. Boids have a vision that defines the radius in\n",
    "    which they look for their neighbors to flock with. Their speed (a scalar) and\n",
    "    heading (a unit vector) define their movement. Separation is their desired \n",
    "    minimum distance from any other Boid. \"\"\"\n",
    "    def __init__(self, unique_id, model, pos, speed=5, heading=None,\n",
    "                 vision=5, separation=1):\n",
    "        \"\"\" Create a new Boid flocker agent. Args:\n",
    "            unique_id: Unique agent identifyer.\n",
    "            pos: Starting position\n",
    "            speed: Distance to move per step.\n",
    "            heading: numpy vector for the Boid's direction of movement.\n",
    "            vision: Radius to look around for nearby Boids.\n",
    "            separation: Minimum distance to maintain from other Boids. \"\"\"\n",
    "        super().__init__(unique_id, model)\n",
    "        self.pos = pos\n",
    "        self.speed = speed\n",
    "        if heading is not None:\n",
    "            self.heading = heading\n",
    "        else:\n",
    "            self.heading = np.random.random(2)\n",
    "            self.heading /= np.linalg.norm(self.heading)\n",
    "        self.vision = vision\n",
    "        self.separation = separation\n",
    "\n",
    "    def cohere(self, neighbors):\n",
    "        \"\"\" Return the vector toward the center of mass of the local neighbors. \"\"\"\n",
    "        center = np.array([0.0, 0.0])\n",
    "        for neighbor in neighbors:\n",
    "            center += np.array(neighbor.pos)\n",
    "        return center / len(neighbors)\n",
    "\n",
    "    def separate(self, neighbors):\n",
    "        \"\"\" Return a vector away from any neighbors closer than separation dist. \"\"\"\n",
    "        my_pos = np.array(self.pos)\n",
    "        sep_vector = np.array([0, 0])\n",
    "        for neighbor in neighbors:\n",
    "            their_pos = np.array(neighbor.pos)\n",
    "            dist = np.linalg.norm(my_pos - their_pos)\n",
    "            if dist < self.separation:\n",
    "                sep_vector -= np.int64(their_pos - my_pos)\n",
    "        return sep_vector\n",
    "\n",
    "    def match_heading(self, neighbors):\n",
    "        \"\"\" Return a vector of the neighbors' average heading. \"\"\"\n",
    "        mean_heading = np.array([0, 0])\n",
    "        for neighbor in neighbors:\n",
    "            mean_heading += np.int64(neighbor.heading)\n",
    "        return mean_heading / len(neighbors)\n",
    "\n",
    "    def step(self):\n",
    "        \"\"\" Get the Boid's neighbors, compute the new vector, and move accordingly.\"\"\"\n",
    "        neighbors = self.model.space.get_neighbors(self.pos, self.vision, False)\n",
    "        if len(neighbors) > 0:\n",
    "            cohere_vector = self.cohere(neighbors)\n",
    "            separate_vector = self.separate(neighbors)\n",
    "            match_heading_vector = self.match_heading(neighbors)\n",
    "            self.heading += (cohere_vector +\n",
    "                             separate_vector +\n",
    "                             match_heading_vector)\n",
    "            self.heading /= np.linalg.norm(self.heading)\n",
    "        new_pos = np.array(self.pos) + self.heading * self.speed\n",
    "        new_x, new_y = new_pos\n",
    "        self.model.space.move_agent(self, (new_x, new_y))"
   ]
  },
  {
   "cell_type": "code",
   "execution_count": 11,
   "metadata": {},
   "outputs": [],
   "source": [
    "\"\"\" Uses numpy arrays to represent vectors. \"\"\"\n",
    "\n",
    "import random\n",
    "from mesa import Model\n",
    "from mesa.space import ContinuousSpace\n",
    "from mesa.time import RandomActivation\n",
    "\n",
    "\n",
    "class BoidsModel(Model):\n",
    "    \"\"\" Flocker model class. Handles agent creation, placement and scheduling. \"\"\"\n",
    "\n",
    "    def __init__(self, N, width, height, speed, vision, separation):\n",
    "        \"\"\" Create a new Flockers model.\n",
    "        Args:\n",
    "            N: Number of Boids\n",
    "            width, height: Size of the space.\n",
    "            speed: How fast should the Boids move.\n",
    "            vision: How far around should each Boid look for its neighbors\n",
    "            separation: What's the minimum distance each Boid will attempt to\n",
    "                       keep from any other \"\"\"\n",
    "        self.N = N\n",
    "        self.vision = vision\n",
    "        self.speed = speed\n",
    "        self.separation = separation\n",
    "        self.schedule = RandomActivation(self)\n",
    "        self.space = ContinuousSpace(width, height, True,\n",
    "                                     grid_width=10, grid_height=10)\n",
    "        self.make_agents()\n",
    "        self.running = True\n",
    "\n",
    "    def make_agents(self):\n",
    "        \"\"\" Create N agents, with random positions and starting headings. \"\"\"\n",
    "        for i in range(self.N):\n",
    "            x = random.random() * self.space.x_max\n",
    "            y = random.random() * self.space.y_max\n",
    "            pos = (x, y)\n",
    "            heading = np.random.random(2) * 2 - np.array((1, 1))\n",
    "            heading /= np.linalg.norm(heading)\n",
    "            boid = Boid(i, self, pos, self.speed, heading, self.vision,\n",
    "                        self.separation)\n",
    "            self.space.place_agent(boid, pos)\n",
    "            self.schedule.add(boid)\n",
    "\n",
    "    def step(self):\n",
    "        self.schedule.step()"
   ]
  },
  {
   "cell_type": "code",
   "execution_count": 12,
   "metadata": {},
   "outputs": [],
   "source": [
    "def draw_boids(model):\n",
    "    x_vals = []\n",
    "    y_vals = []\n",
    "    for boid in model.schedule.agents:\n",
    "        x, y = boid.pos\n",
    "        x_vals.append(x)\n",
    "        y_vals.append(y)\n",
    "    fig = plt.figure(figsize=(10, 10))\n",
    "    ax = fig.add_subplot(111)\n",
    "    ax.scatter(x_vals, y_vals)"
   ]
  },
  {
   "cell_type": "code",
   "execution_count": 13,
   "metadata": {},
   "outputs": [],
   "source": [
    "model = BoidsModel(100, 100, 100, speed=5, vision=5, separation=1)"
   ]
  },
  {
   "cell_type": "code",
   "execution_count": 14,
   "metadata": {},
   "outputs": [],
   "source": [
    "for i in range(50):\n",
    "    model.step()"
   ]
  },
  {
   "cell_type": "code",
   "execution_count": 15,
   "metadata": {},
   "outputs": [
    {
     "data": {
      "image/png": "[encoded data removed]",
      "text/plain": [
       "<matplotlib.figure.Figure at 0x105f75e10>"
      ]
     },
     "metadata": {},
     "output_type": "display_data"
    }
   ],
   "source": [
    "draw_boids(model)"
   ]
  },
  {
   "cell_type": "code",
   "execution_count": 16,
   "metadata": {},
   "outputs": [],
   "source": [
    "from mesa.visualization.ModularVisualization import VisualizationElement\n",
    "\n",
    "\n",
    "class SimpleCanvas(VisualizationElement):\n",
    "    local_includes = [\"simple_continuous_canvas.js\"]\n",
    "    portrayal_method = None\n",
    "    canvas_height = 500\n",
    "    canvas_width = 500\n",
    "\n",
    "    def __init__(self, portrayal_method, canvas_height=500, canvas_width=500):\n",
    "        \"\"\"\n",
    "        Instantiate a new SimpleCanvas\n",
    "        \"\"\"\n",
    "        self.portrayal_method = portrayal_method\n",
    "        self.canvas_height = canvas_height\n",
    "        self.canvas_width = canvas_width\n",
    "        new_element = (\"new Simple_Continuous_Module({}, {})\".\n",
    "                       format(self.canvas_width, self.canvas_height))\n",
    "        self.js_code = \"elements.push(\" + new_element + \");\"\n",
    "\n",
    "    def render(self, model):\n",
    "        space_state = []\n",
    "        for obj in model.schedule.agents:\n",
    "            portrayal = self.portrayal_method(obj)\n",
    "            x, y = obj.pos\n",
    "            x = ((x - model.space.x_min) /\n",
    "                 (model.space.x_max - model.space.x_min))\n",
    "            y = ((y - model.space.y_min) /\n",
    "                 (model.space.y_max - model.space.y_min))\n",
    "            portrayal[\"x\"] = x\n",
    "            portrayal[\"y\"] = y\n",
    "            space_state.append(portrayal)\n",
    "        return space_state"
   ]
  },
  {
   "cell_type": "code",
   "execution_count": 17,
   "metadata": {
    "collapsed": true
   },
   "outputs": [
    {
     "name": "stdout",
     "output_type": "stream",
     "text": [
      "Interface starting at http://127.0.0.1:8521\n"
     ]
    },
    {
     "ename": "RuntimeError",
     "evalue": "IOLoop is already running",
     "traceback": [
      "\u001b[0;31m---------------------------------------------------------------------------\u001b[0m",
      "\u001b[0;31mRuntimeError\u001b[0m                              Traceback (most recent call last)",
      "\u001b[0;32m<ipython-input-17-4a3284a4be78>\u001b[0m in \u001b[0;36m<module>\u001b[0;34m()\u001b[0m\n\u001b[1;32m     10\u001b[0m                        100, 100, 100, 5, 10, 2)\n\u001b[1;32m     11\u001b[0m \u001b[0;34m\u001b[0m\u001b[0m\n\u001b[0;32m---> 12\u001b[0;31m \u001b[0mserver\u001b[0m\u001b[0;34m.\u001b[0m\u001b[0mlaunch\u001b[0m\u001b[0;34m(\u001b[0m\u001b[0;34m)\u001b[0m\u001b[0;34m\u001b[0m\u001b[0m\n\u001b[0m",
      "\u001b[0;32m/Library/Frameworks/Python.framework/Versions/3.5/lib/python3.5/site-packages/mesa/visualization/ModularVisualization.py\u001b[0m in \u001b[0;36mlaunch\u001b[0;34m(self, port)\u001b[0m\n\u001b[1;32m    261\u001b[0m         \u001b[0mself\u001b[0m\u001b[0;34m.\u001b[0m\u001b[0mlisten\u001b[0m\u001b[0;34m(\u001b[0m\u001b[0mself\u001b[0m\u001b[0;34m.\u001b[0m\u001b[0mport\u001b[0m\u001b[0;34m)\u001b[0m\u001b[0;34m\u001b[0m\u001b[0m\n\u001b[1;32m    262\u001b[0m         \u001b[0mwebbrowser\u001b[0m\u001b[0;34m.\u001b[0m\u001b[0mopen\u001b[0m\u001b[0;34m(\u001b[0m\u001b[0murl\u001b[0m\u001b[0;34m)\u001b[0m\u001b[0;34m\u001b[0m\u001b[0m\n\u001b[0;32m--> 263\u001b[0;31m         \u001b[0mtornado\u001b[0m\u001b[0;34m.\u001b[0m\u001b[0mioloop\u001b[0m\u001b[0;34m.\u001b[0m\u001b[0mIOLoop\u001b[0m\u001b[0;34m.\u001b[0m\u001b[0minstance\u001b[0m\u001b[0;34m(\u001b[0m\u001b[0;34m)\u001b[0m\u001b[0;34m.\u001b[0m\u001b[0mstart\u001b[0m\u001b[0;34m(\u001b[0m\u001b[0;34m)\u001b[0m\u001b[0;34m\u001b[0m\u001b[0m\n\u001b[0m",
      "\u001b[0;32m/Library/Frameworks/Python.framework/Versions/3.5/lib/python3.5/site-packages/zmq/eventloop/ioloop.py\u001b[0m in \u001b[0;36mstart\u001b[0;34m(self)\u001b[0m\n\u001b[1;32m    175\u001b[0m     \u001b[0;32mdef\u001b[0m \u001b[0mstart\u001b[0m\u001b[0;34m(\u001b[0m\u001b[0mself\u001b[0m\u001b[0;34m)\u001b[0m\u001b[0;34m:\u001b[0m\u001b[0;34m\u001b[0m\u001b[0m\n\u001b[1;32m    176\u001b[0m         \u001b[0;32mtry\u001b[0m\u001b[0;34m:\u001b[0m\u001b[0;34m\u001b[0m\u001b[0m\n\u001b[0;32m--> 177\u001b[0;31m             \u001b[0msuper\u001b[0m\u001b[0;34m(\u001b[0m\u001b[0mZMQIOLoop\u001b[0m\u001b[0;34m,\u001b[0m \u001b[0mself\u001b[0m\u001b[0;34m)\u001b[0m\u001b[0;34m.\u001b[0m\u001b[0mstart\u001b[0m\u001b[0;34m(\u001b[0m\u001b[0;34m)\u001b[0m\u001b[0;34m\u001b[0m\u001b[0m\n\u001b[0m\u001b[1;32m    178\u001b[0m         \u001b[0;32mexcept\u001b[0m \u001b[0mZMQError\u001b[0m \u001b[0;32mas\u001b[0m \u001b[0me\u001b[0m\u001b[0;34m:\u001b[0m\u001b[0;34m\u001b[0m\u001b[0m\n\u001b[1;32m    179\u001b[0m             \u001b[0;32mif\u001b[0m \u001b[0me\u001b[0m\u001b[0;34m.\u001b[0m\u001b[0merrno\u001b[0m \u001b[0;34m==\u001b[0m \u001b[0mETERM\u001b[0m\u001b[0;34m:\u001b[0m\u001b[0;34m\u001b[0m\u001b[0m\n",
      "\u001b[0;32m/Library/Frameworks/Python.framework/Versions/3.5/lib/python3.5/site-packages/tornado/ioloop.py\u001b[0m in \u001b[0;36mstart\u001b[0;34m(self)\u001b[0m\n\u001b[1;32m    750\u001b[0m     \u001b[0;32mdef\u001b[0m \u001b[0mstart\u001b[0m\u001b[0;34m(\u001b[0m\u001b[0mself\u001b[0m\u001b[0;34m)\u001b[0m\u001b[0;34m:\u001b[0m\u001b[0;34m\u001b[0m\u001b[0m\n\u001b[1;32m    751\u001b[0m         \u001b[0;32mif\u001b[0m \u001b[0mself\u001b[0m\u001b[0;34m.\u001b[0m\u001b[0m_running\u001b[0m\u001b[0;34m:\u001b[0m\u001b[0;34m\u001b[0m\u001b[0m\n\u001b[0;32m--> 752\u001b[0;31m             \u001b[0;32mraise\u001b[0m \u001b[0mRuntimeError\u001b[0m\u001b[0;34m(\u001b[0m\u001b[0;34m\"IOLoop is already running\"\u001b[0m\u001b[0;34m)\u001b[0m\u001b[0;34m\u001b[0m\u001b[0m\n\u001b[0m\u001b[1;32m    753\u001b[0m         \u001b[0mself\u001b[0m\u001b[0;34m.\u001b[0m\u001b[0m_setup_logging\u001b[0m\u001b[0;34m(\u001b[0m\u001b[0;34m)\u001b[0m\u001b[0;34m\u001b[0m\u001b[0m\n\u001b[1;32m    754\u001b[0m         \u001b[0;32mif\u001b[0m \u001b[0mself\u001b[0m\u001b[0;34m.\u001b[0m\u001b[0m_stopped\u001b[0m\u001b[0;34m:\u001b[0m\u001b[0;34m\u001b[0m\u001b[0m\n",
      "\u001b[0;31mRuntimeError\u001b[0m: IOLoop is already running"
     ],
     "output_type": "error"
    }
   ],
   "source": [
    "from mesa.visualization.ModularVisualization import ModularServer\n",
    "from SimpleContinuousModule import SimpleCanvas\n",
    "\n",
    "\n",
    "def boid_draw(agent):\n",
    "    return {\"Shape\": \"circle\", \"r\": 2, \"Filled\": \"true\", \"Color\": \"Red\"}\n",
    "\n",
    "boid_canvas = SimpleCanvas(boid_draw, 500, 500)\n",
    "server = ModularServer(BoidsModel, [boid_canvas], \"Boids\",\n",
    "                       100, 100, 100, 5, 10, 2)\n",
    "\n",
    "server.launch()"
   ]
  },
  {
   "cell_type": "code",
   "execution_count": null,
   "metadata": {},
   "outputs": [],
   "source": [
    ""
   ]
  }
 ],
 "metadata": {
  "kernelspec": {
   "display_name": "Python 2",
   "language": "python",
   "name": "python2"
  },
  "language_info": {
   "codemirror_mode": {
    "name": "ipython",
    "version": 2.0
   },
   "file_extension": ".py",
   "mimetype": "text/x-python",
   "name": "python",
   "nbconvert_exporter": "python",
   "pygments_lexer": "ipython2",
   "version": "2.7.6"
  }
 },
 "nbformat": 4,
 "nbformat_minor": 0
}