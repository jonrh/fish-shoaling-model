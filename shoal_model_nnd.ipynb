{
 "cells": [
  {
   "cell_type": "markdown",
   "metadata": {
    "collapsed": true
   },
   "source": [
    ""
   ]
  },
  {
   "cell_type": "code",
   "execution_count": 4,
   "metadata": {},
   "outputs": [],
   "source": [
    "# Packages and libraries\n",
    "import numpy as np\n",
    "import random\n",
    "from scipy import ndimage\n",
    "from scipy.spatial import KDTree\n",
    "from mesa import Agent\n",
    "from mesa import Model\n",
    "from mesa.time import RandomActivation\n",
    "from mesa.datacollection import DataCollector\n",
    "from mesa.space import ContinuousSpace\n",
    "from mesa.visualization.ModularVisualization import ModularServer\n",
    "from mesa.visualization.modules import ChartModule"
   ]
  },
  {
   "cell_type": "code",
   "execution_count": 5,
   "metadata": {},
   "outputs": [],
   "source": [
    "def nnd(model):\n",
    "    \"\"\"\n",
    "    Computes the average nearest neighbor distance for each agent as another\n",
    "    measure of cohesion.\n",
    "    \"\"\"\n",
    "    fish = np.asarray([agent.pos for agent in model.schedule.agents])\n",
    "    fish_tree = KDTree(fish)\n",
    "    means = []\n",
    "    for me in fish:\n",
    "        neighbors = fish_tree.query(x=me, k=6)  # includes agent @ dist = 0\n",
    "        dist = list(neighbors[0])\n",
    "        dist.pop(0)  # removes closest agent - itself @ dist = 0\n",
    "        mean_dist = sum(dist) / len(dist)\n",
    "        means.append(mean_dist)\n",
    "    return sum(means) / len(means)"
   ]
  },
  {
   "cell_type": "code",
   "execution_count": 6,
   "metadata": {},
   "outputs": [],
   "source": [
    "# Defines the Agent class for the \"fish\" in the model\n",
    "class Fish(Agent):\n",
    "    \"\"\"\n",
    "    A Boid-style flocker agent. Boids have a vision that defines the radius in\n",
    "    which they look for their neighbors to flock with. Their heading (a unit\n",
    "    vector) and their interactions with their neighbors - cohering and avoiding -\n",
    "    define their movement. Avoidance is their desired minimum distance from\n",
    "    any other Boid.\n",
    "    \"\"\"\n",
    "    def __init__(self, unique_id, model, pos, speed=3, velocity=None,\n",
    "                 vision=5, avoidance=1):\n",
    "        \"\"\"\n",
    "        Create a new Boid (bird, fish) agent. Args:\n",
    "            unique_id: unique agent identifier.\n",
    "            pos: starting position\n",
    "            speed: distance to move per step. Since it's positive, boids move\n",
    "                in a positive direction.\n",
    "            velocity: randomly generated. Velocity can then be normalized to\n",
    "                create the heading - the scalar version w/ no magnitude.\n",
    "            vision: Radius to look around for nearby Boids.\n",
    "            avoidance: Minimum distance to maintain from other Boids.\n",
    "        \"\"\"\n",
    "        super().__init__(unique_id, model)\n",
    "        self.pos = pos\n",
    "        self.speed = speed\n",
    "        if velocity is not None:\n",
    "            self.velocity = velocity\n",
    "            self.heading = self.velocity / np.linalg.norm(self.velocity)\n",
    "        else:\n",
    "            self.velocity = np.random.uniform(2) - 0.5\n",
    "            self.heading /= np.linalg.norm(self.velocity)\n",
    "        self.vision = vision\n",
    "        self.avoidance = avoidance\n",
    "\n",
    "    def cohere(self, neighbors):\n",
    "        \"\"\"\n",
    "        Return the vector toward the center of mass of the local neighbors.\n",
    "        \"\"\"\n",
    "        coh_vector = np.array([0.0, 0.0])\n",
    "        their_pos = [neighbor.pos for neighbor in neighbors]\n",
    "        their_pos = np.asarray(their_pos)\n",
    "        center = ndimage.measurements.center_of_mass(their_pos)\n",
    "        coh_vector += np.subtract(center, self.pos)  # both are tuples\n",
    "        if np.linalg.norm(coh_vector) > 0:  # when there is already a magnitude\n",
    "            return coh_vector / np.linalg.norm(coh_vector)\n",
    "        else:\n",
    "            return coh_vector\n",
    "\n",
    "    def avoid(self, neighbors):\n",
    "        \"\"\"\n",
    "        Return a vector away rom any neighbors closer than avoidance distance.\n",
    "        \"\"\"\n",
    "        my_pos = np.array(self.pos)\n",
    "        avoid_vector = np.array([0, 0])\n",
    "        for neighbor in neighbors:\n",
    "            their_pos = np.array(neighbor.pos)\n",
    "            dist = np.linalg.norm(my_pos - their_pos)\n",
    "            if dist <= self.avoidance:\n",
    "                avoid_vector -= np.int64(their_pos - my_pos)  # tuples\n",
    "        if np.linalg.norm(avoid_vector) > 0:\n",
    "            return avoid_vector / np.linalg.norm(avoid_vector)\n",
    "        else:\n",
    "            return avoid_vector\n",
    "\n",
    "    def match_velocity(self, neighbors):\n",
    "        \"\"\"\n",
    "        Have Boids match the velocity of neighbors.\n",
    "        \"\"\"\n",
    "        mean_velocity = np.array([0.0, 0.0])\n",
    "        for neighbor in neighbors:\n",
    "            mean_velocity += neighbor.velocity / len(neighbors)\n",
    "        return mean_velocity\n",
    "        # Not checking for an normalizing this function because we want to\n",
    "        # retain the magnitude.\n",
    "\n",
    "    def step(self):\n",
    "        \"\"\" \n",
    "        Get the Boid's neighbors, compute the new vector, normalize that\n",
    "        vector, and move accordingly.\n",
    "        \"\"\"\n",
    "        neighbors = self.model.space.get_neighbors(self.pos, self.vision, False)\n",
    "        if len(neighbors) > 0:\n",
    "            cohere_vector = self.cohere(neighbors)\n",
    "            avoid_vector = self.avoid(neighbors)\n",
    "            velocity = self.match_velocity(neighbors)\n",
    "            match_heading = velocity / np.linalg.norm(velocity)\n",
    "            self.heading += (cohere_vector +\n",
    "                             avoid_vector +\n",
    "                             match_heading)\n",
    "        rate = np.linalg.norm(self.heading)\n",
    "        self.heading /= rate\n",
    "        new_pos = np.array(self.pos) + self.heading * self.speed\n",
    "        new_x, new_y = new_pos\n",
    "        self.model.space.move_agent(self, (new_x, new_y))"
   ]
  },
  {
   "cell_type": "code",
   "execution_count": 7,
   "metadata": {},
   "outputs": [],
   "source": [
    "# Defines the collective behaviour model\n",
    "class ShoalModel(Model):\n",
    "    \"\"\" Shoal model class. Handles agent creation, placement and scheduling. \"\"\"\n",
    "\n",
    "    def __init__(self, n, width, height, speed, vision, avoidance):\n",
    "        \"\"\"\n",
    "        Create a new Flockers model. Args:\n",
    "            N: Number of Boids\n",
    "            width, height: Size of the space.\n",
    "            speed: how fast the boids should move.\n",
    "            vision: how far around should each Boid look for its neighbors\n",
    "            avoidance: what's the minimum distance each Boid will attempt to\n",
    "                keep from any other\n",
    "        \"\"\"\n",
    "        self.n = n\n",
    "        self.speed = speed\n",
    "        self.vision = vision\n",
    "        self.avoidance = avoidance\n",
    "        self.schedule = RandomActivation(self)\n",
    "        self.space = ContinuousSpace(width, height, torus=True,\n",
    "                                     grid_width=100, grid_height=100)\n",
    "        self.make_agents()\n",
    "        self.running = True\n",
    "\n",
    "    def make_agents(self):\n",
    "        \"\"\" \n",
    "        Create N agents, with random positions and starting velocities. \n",
    "        \"\"\"\n",
    "        for i in range(self.n):\n",
    "            x = random.random() * self.space.x_max\n",
    "            y = random.random() * self.space.y_max\n",
    "            pos = (x, y)\n",
    "            velocity = np.random.random(2) * 2 - np.array((1, 1))  # Doesn't include upper #, 2d array\n",
    "            fish = Fish(unique_id=i, model=self, pos=pos, speed=self.speed, velocity=velocity,\n",
    "                        vision=self.vision, avoidance=self.avoidance)\n",
    "            self.space.place_agent(fish, pos)\n",
    "            self.schedule.add(fish)\n",
    "\n",
    "        # Creating the data collector, which reports the output of a function\n",
    "        # (polar, the average agent heading) for each step. This is a \"model-\n",
    "        # level\" reporter, but agent-level is also available.\n",
    "        self.datacollector = DataCollector(\n",
    "            model_reporters={\"Nearest Neighbour Distance\": nnd})\n",
    "\n",
    "    def step(self):\n",
    "        self.datacollector.collect(self)\n",
    "        self.schedule.step()"
   ]
  },
  {
   "cell_type": "code",
   "execution_count": 8,
   "metadata": {},
   "outputs": [],
   "source": [
    "# Runs the model 1 time.\n",
    "# These were the presets provided in the Mesa Flocker tutorial.\n",
    "for j in range(1):\n",
    "    model = \\\n",
    "        ShoalModel(n=100, width=100, height=100, speed=5, vision=5, avoidance=2)\n",
    "    for i in range(100):\n",
    "        model.step()"
   ]
  },
  {
   "cell_type": "code",
   "execution_count": 9,
   "metadata": {},
   "outputs": [
    {
     "data": {
      "text/plain": [
       "<matplotlib.axes._subplots.AxesSubplot at 0x11493dbe0>"
      ]
     },
     "execution_count": 9,
     "metadata": {},
     "output_type": "execute_result"
    },
    {
     "data": {
      "image/png": "[encoded data removed]",
      "text/plain": [
       "<matplotlib.figure.Figure at 0x113d511d0>"
      ]
     },
     "metadata": {},
     "output_type": "display_data"
    }
   ],
   "source": [
    "# Plot nearest neighbour distance\n",
    "%matplotlib inline\n",
    "\n",
    "nearestneighbour = model.datacollector.get_model_vars_dataframe()\n",
    "nearestneighbour.plot()"
   ]
  },
  {
   "cell_type": "code",
   "execution_count": null,
   "metadata": {},
   "outputs": [],
   "source": [
    ""
   ]
  }
 ],
 "metadata": {
  "kernelspec": {
   "display_name": "Python 2",
   "language": "python",
   "name": "python2"
  },
  "language_info": {
   "codemirror_mode": {
    "name": "ipython",
    "version": 2.0
   },
   "file_extension": ".py",
   "mimetype": "text/x-python",
   "name": "python",
   "nbconvert_exporter": "python",
   "pygments_lexer": "ipython2",
   "version": "2.7.6"
  }
 },
 "nbformat": 4,
 "nbformat_minor": 0
}