{
 "cells": [
  {
   "cell_type": "markdown",
   "metadata": {},
   "source": [
    "Model of shoaling behavior based on the Boids model by Craig Reynolds in 1986, using the \n",
    "basic code provided in the Flocker example of the Mesa framework for agent-based modelling in Python. This model is based on 2 parameters that each agent follows:\n",
    "    1. Attraction to other agents,\n",
    "    2. Avoidance of other agents.\n",
    "    \n",
    "Heading, though recorded for each agent, is not included in the parameters that determine\n",
    "an agents' movement. Therefore, polarization becomes an emergent behaviour and can be \n",
    "analyzed as a measure of cohesion, along with the nearest neighbour distance. The model is based on a bounded, 3D area. Later additions will include obstacles, environmental\n",
    "gradients, and agents with goal-, food-, or safety-seeking behaviour.\n",
    "\n",
    "This Jupyter notebook version is useful for changing the parameters of the model and seeingthe effect on cohesion without having to re-write the model each time. Parameters explored here include vision and number of individuals and the effect these parameters have on\n",
    "cohesion. "
   ]
  },
  {
   "cell_type": "code",
   "execution_count": 13,
   "metadata": {},
   "outputs": [],
   "source": [
    "# Packages and libraries\n",
    "import numpy as np\n",
    "import random\n",
    "from mesa import Agent\n",
    "from mesa import Model\n",
    "from mesa.time import RandomActivation\n",
    "from mesa.datacollection import DataCollector\n",
    "from mesa.space import ContinuousSpace\n",
    "from mesa.visualization.ModularVisualization import ModularServer\n",
    "from mesa.visualization.modules import ChartModule\n",
    "import matplotlib.pyplot as plt"
   ]
  },
  {
   "cell_type": "code",
   "execution_count": 14,
   "metadata": {},
   "outputs": [],
   "source": [
    "def polar(model):\n",
    "    \"\"\"\n",
    "    Computes polarization of the agents by averaging their headings,\n",
    "    from 0 to 1. As the value approaches 1, the cohesion of the shoal increases.\n",
    "    Heading is a unit vector, meaning the magnitude is 1 and the direction is\n",
    "    given as x,y coordinates. The average is taken first of the absolute value\n",
    "    of the x-coordinate, then of the y-coordinate and then those averages are\n",
    "    averaged to find a single number to represent on the graph. This might not\n",
    "    be mathematically accurate!\n",
    "    \"\"\"\n",
    "    heading_x = [agent.heading[0] for agent in model.schedule.agents]\n",
    "    heading_y = [agent.heading[1] for agent in model.schedule.agents]\n",
    "    num_fish = model.num_agents\n",
    "    avg_h_x = abs(sum(heading_x))/num_fish\n",
    "    avg_h_y = abs(sum(heading_y))/num_fish\n",
    "    avg_heading = (avg_h_x + avg_h_y)/2\n",
    "\n",
    "    return avg_heading"
   ]
  },
  {
   "cell_type": "code",
   "execution_count": 15,
   "metadata": {},
   "outputs": [],
   "source": [
    "# Defines the Agent class for the \"fish\" in the model\n",
    "class Fish(Agent):\n",
    "    \"\"\"\n",
    "    A Boid-style agent. Boids have a vision that defines the radius in which\n",
    "    they look for their neighbors to flock with. The units of this vision are\n",
    "    unclear, however. Their speed (a scalar) and heading (a unit vector) define\n",
    "    their movement. Avoidance is their desired minimum distance from any other agent.\n",
    "    \"\"\"\n",
    "    def __init__(self, unique_id, model, pos, speed=5, heading=None,\n",
    "                 vision=5, avoidance=1):\n",
    "        \"\"\"\n",
    "        Create a new Boid agent. Args:\n",
    "            unique_id: Unique agent identifier.\n",
    "            pos: Starting position\n",
    "            speed: Distance to move per step.\n",
    "            heading: numpy vector for the Boid's direction of movement.\n",
    "            vision: Radius to look around for nearby Boids.\n",
    "            avoidance: Minimum distance to maintain from other Boids.\n",
    "        \"\"\"\n",
    "        super().__init__(unique_id, model)\n",
    "        self.pos = pos\n",
    "        self.speed = speed\n",
    "        if heading is not None:\n",
    "            self.heading = heading\n",
    "        else:\n",
    "            self.heading = np.random.random(2)\n",
    "            self.heading /= np.linalg.norm(self.heading)\n",
    "        self.vision = vision\n",
    "        self.avoidance = avoidance\n",
    "\n",
    "    def cohere(self, neighbors):\n",
    "        \"\"\" Return the vector toward the center of mass of the local neighbors. \"\"\"\n",
    "        center = np.array([0.0, 0.0])\n",
    "        for neighbor in neighbors:\n",
    "            center += np.array(neighbor.pos)\n",
    "        return center / len(neighbors)\n",
    "\n",
    "    def separate(self, neighbors):\n",
    "        \"\"\" Return a vector away from any neighbors closer than avoidance dist. \"\"\"\n",
    "        my_pos = np.array(self.pos)\n",
    "        sep_vector = np.array([0, 0])\n",
    "        for neighbor in neighbors:\n",
    "            their_pos = np.array(neighbor.pos)\n",
    "            dist = np.linalg.norm(my_pos - their_pos)\n",
    "            if dist < self.avoidance:\n",
    "                sep_vector -= np.int64(their_pos - my_pos)\n",
    "        return sep_vector\n",
    "\n",
    "    def step(self):\n",
    "        \"\"\"\n",
    "        Get the Boid's neighbors, compute the new vector, and move accordingly,\n",
    "        but the agents no longer attempt to match their heading to others.\n",
    "        Their new heading is dependent on their desire ot cohere & to separate.\n",
    "        \"\"\"\n",
    "        neighbors = self.model.space.get_neighbors(self.pos, self.vision, False)\n",
    "        if len(neighbors) > 0:\n",
    "            cohere_vector = self.cohere(neighbors)\n",
    "            separate_vector = self.separate(neighbors)\n",
    "            self.heading += (cohere_vector +\n",
    "                             separate_vector)\n",
    "            self.heading /= np.linalg.norm(self.heading)\n",
    "        new_pos = np.array(self.pos) + self.heading * self.speed\n",
    "        new_x, new_y = new_pos\n",
    "        self.model.space.move_agent(self, (new_x, new_y))"
   ]
  },
  {
   "cell_type": "code",
   "execution_count": 16,
   "metadata": {},
   "outputs": [],
   "source": [
    "# Defines the collective behaviour model\n",
    "class ShoalModel(Model):\n",
    "    \"\"\" Shoal model class. Handles agent creation, placement and scheduling. \"\"\"\n",
    "\n",
    "    def __init__(self, n, width, height, speed, vision, avoidance):\n",
    "        \"\"\"\n",
    "        Create a new Flockers model. Args:\n",
    "            N: Number of agents\n",
    "            width, height: Size of the space.\n",
    "            speed: How fast should the agents move.\n",
    "            vision: How far around should each agent should look for its\n",
    "                    neighbors\n",
    "            avoidance: What's the minimum distance each agent will attempt to\n",
    "                       keep from any other\n",
    "                       \n",
    "        Also includes data collection for analysis of the model.\n",
    "        \"\"\"\n",
    "        self.num_agents = n\n",
    "        self.vision = vision\n",
    "        self.speed = speed\n",
    "        self.avoidance = avoidance\n",
    "        self.schedule = RandomActivation(self)\n",
    "        self.space = ContinuousSpace(width, height, True,\n",
    "                                     grid_width=10, grid_height=10)\n",
    "        self.running = True\n",
    "\n",
    "        for i in range(self.num_agents):\n",
    "            x = random.random() * self.space.x_max\n",
    "            y = random.random() * self.space.y_max\n",
    "            pos = (x, y)\n",
    "            heading = np.random.random(2) * 2 - np.array((1, 1))\n",
    "            heading /= np.linalg.norm(heading)\n",
    "            fish = Fish(i, self, pos, self.speed, heading, self.vision,\n",
    "                        self.avoidance)\n",
    "            self.space.place_agent(fish, pos)\n",
    "            self.schedule.add(fish)\n",
    "        \n",
    "        # Creating the data collector, which reports the output of a function\n",
    "        # (polar, the average agent heading) for each step of the model. This\n",
    "        # is a \"model-level\" reporter, but agent-level is also available.\n",
    "        self.datacollector = DataCollector(\n",
    "            model_reporters={\"Polarization\": polar})\n",
    "\n",
    "    def step(self):\n",
    "        self.datacollector.collect(self)\n",
    "        self.schedule.step()"
   ]
  },
  {
   "cell_type": "code",
   "execution_count": 17,
   "metadata": {},
   "outputs": [],
   "source": [
    "# Runs the model with the following parameters:\n",
    "#   1. Number of agents\n",
    "#   2. Width\n",
    "#   3. Height\n",
    "#   4. Speed\n",
    "#   5. Vision\n",
    "#   6. Avoidance\n",
    "# and then runs the model for (n) steps.\n",
    "model = ShoalModel(100, 100, 100, 5, 5, 2)\n",
    "for i in range(100):\n",
    "    model.step()"
   ]
  },
  {
   "cell_type": "code",
   "execution_count": 18,
   "metadata": {},
   "outputs": [
    {
     "data": {
      "text/plain": [
       "<matplotlib.axes._subplots.AxesSubplot at 0x10742a240>"
      ]
     },
     "execution_count": 18,
     "metadata": {},
     "output_type": "execute_result"
    },
    {
     "data": {
      "image/png": "[encoded data removed]",
      "text/plain": [
       "<matplotlib.figure.Figure at 0x107419978>"
      ]
     },
     "metadata": {},
     "output_type": "display_data"
    }
   ],
   "source": [
    "# Plot cohesion factor\n",
    "%matplotlib inline\n",
    "\n",
    "polarization = model.datacollector.get_model_vars_dataframe()\n",
    "polarization.plot()"
   ]
  },
  {
   "cell_type": "code",
   "execution_count": null,
   "metadata": {},
   "outputs": [],
   "source": [
    ""
   ]
  }
 ],
 "metadata": {
  "kernelspec": {
   "display_name": "Python 2",
   "language": "python",
   "name": "python2"
  },
  "language_info": {
   "codemirror_mode": {
    "name": "ipython",
    "version": 2.0
   },
   "file_extension": ".py",
   "mimetype": "text/x-python",
   "name": "python",
   "nbconvert_exporter": "python",
   "pygments_lexer": "ipython2",
   "version": "2.7.6"
  }
 },
 "nbformat": 4,
 "nbformat_minor": 0
}