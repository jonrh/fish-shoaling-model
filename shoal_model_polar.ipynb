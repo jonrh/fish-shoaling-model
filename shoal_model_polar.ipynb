{
 "cells": [
  {
   "cell_type": "markdown",
   "metadata": {},
   "source": [
    "Model of shoaling behavior based on the Boids model by Craig Reynolds in 1986,\n",
    "using the basic code provided in the Flocker example of the Mesa framework for\n",
    "agent-based modelling in Python. This model is based on 3 parameters that each\n",
    "agent follows:\n",
    "    1. Attraction to (coherence with) other agents,\n",
    "    2. Avoidance of other agents,\n",
    "    3. Alignment with other agents.\n",
    "\n",
    "The model is based on a bounded, 3D area. Later additions\n",
    "will include obstacles, environmental gradients, and agents with goal-, food-, or safety-seeking behaviour.\n",
    "\n",
    "This Jupyter notebook version is useful for changing the parameters of the model and seeing the effect on cohesion without having to re-write the model each time. Parameters explored here include vision and number of individuals and the effect these parameters have on\n",
    "cohesion, which is measured here as the degree of polarization - median absolute deviation from the mean velocity of the group."
   ]
  },
  {
   "cell_type": "code",
   "execution_count": 1,
   "metadata": {
    "collapsed": true
   },
   "outputs": [],
   "source": [
    "# Packages and libraries\n",
    "import numpy as np\n",
    "import math\n",
    "import random\n",
    "from statsmodels.robust.scale import mad\n",
    "from mesa import Agent\n",
    "from mesa import Model\n",
    "from mesa.time import RandomActivation\n",
    "from mesa.datacollection import DataCollector\n",
    "from mesa.space import ContinuousSpace\n",
    "from mesa.visualization.ModularVisualization import ModularServer\n",
    "from mesa.visualization.modules import ChartModule"
   ]
  },
  {
   "cell_type": "code",
   "execution_count": 2,
   "metadata": {
    "collapsed": true
   },
   "outputs": [],
   "source": [
    "def polar(model):\n",
    "    \"\"\"\n",
    "    Computes median absolute deviation (MAD) from the mean velocity of the\n",
    "    group. As the value approaches 0, polarization increases.\n",
    "    In order to find the MAD, the x,y coordinates are converted to radians by\n",
    "    finding the arc tangent of y/x. The function used pays attention to the\n",
    "    sign of the input to make sure that the correct quadrant for the angle is\n",
    "    determined.\n",
    "    \"\"\"\n",
    "    velocity_x = [agent.velocity[0] for agent in model.schedule.agents]\n",
    "    velocity_y = [agent.velocity[1] for agent in model.schedule.agents]\n",
    "    angle = []\n",
    "    for (y, x) in zip(velocity_y, velocity_x):\n",
    "        a = math.atan2(y, x)\n",
    "        angle.append(a)\n",
    "    return mad(np.asarray(angle), center=np.median)"
   ]
  },
  {
   "cell_type": "code",
   "execution_count": 3,
   "metadata": {
    "collapsed": true
   },
   "outputs": [],
   "source": [
    "# Defines the Agent class for the \"fish\" in the model\n",
    "class Fish(Agent):\n",
    "    \"\"\"\n",
    "    A Boid-style agent. Boids have a vision that defines the radius in which\n",
    "    they look for their neighbors to flock with. Their heading (a unit vector)\n",
    "    and their interactions with their neighbors - cohering and avoiding -\n",
    "    define their movement. Separation is their desired minimum distance from\n",
    "    any other Boid.\n",
    "    \"\"\"\n",
    "    def __init__(self, unique_id, model, pos, speed, velocity, vision,\n",
    "                 separation, cohere=0.025, separate=0.25, match=0.04):\n",
    "        \"\"\"\n",
    "        Create a new Boid (bird, fish) agent.\n",
    "        Args:\n",
    "            unique_id: Unique agent identifier.\n",
    "            pos: Starting position\n",
    "            speed: Distance to move per step.\n",
    "            velocity: numpy vector for the Boid's direction of movement.\n",
    "            vision: Radius to look around for nearby Boids.\n",
    "            separation: Minimum distance to maintain from other Boids.\n",
    "            cohere: the relative importance of matching neighbors' positions\n",
    "            separate: the relative importance of avoiding close neighbors\n",
    "            match: the relative importance of matching neighbors' headings\n",
    "        \"\"\"\n",
    "        super().__init__(unique_id, model)\n",
    "        self.pos = np.array(pos)\n",
    "        self.speed = speed\n",
    "        self.velocity = velocity\n",
    "        self.vision = vision\n",
    "        self.separation = separation\n",
    "        self.cohere_factor = cohere\n",
    "        self.separate_factor = separate\n",
    "        self.match_factor = match\n",
    "\n",
    "    def cohere(self, neighbors):\n",
    "        \"\"\"\n",
    "        Return the vector toward the centroid of the local neighbors.\n",
    "        \"\"\"\n",
    "        cohere = np.zeros(2)\n",
    "        if neighbors:\n",
    "            for neighbor in neighbors:\n",
    "                cohere += self.model.space.get_heading(self.pos, neighbor.pos)\n",
    "            cohere /= len(neighbors)\n",
    "        return cohere\n",
    "\n",
    "    def separate(self, neighbors):\n",
    "        \"\"\"\n",
    "        Return a vector away rom any neighbors closer than avoidance distance.\n",
    "        \"\"\"\n",
    "        me = self.pos\n",
    "        them = (n.pos for n in neighbors)\n",
    "        separate_vector = np.zeros(2)\n",
    "        for other in them:\n",
    "            if self.model.space.get_distance(me, other) < self.separation:\n",
    "                separate_vector -= self.model.space.get_heading(me, other)\n",
    "        return separate_vector\n",
    "\n",
    "    def match_velocity(self, neighbors):\n",
    "        \"\"\"\n",
    "        Have Boids match the velocity of neighbors.\n",
    "        \"\"\"\n",
    "        match_vector = np.zeros(2)\n",
    "        if neighbors:\n",
    "            for neighbor in neighbors:\n",
    "                match_vector += neighbor.velocity\n",
    "            match_vector /= len(neighbors)\n",
    "        return match_vector\n",
    "\n",
    "    def step(self):\n",
    "        \"\"\" \n",
    "        Get the Boid's neighbors, compute the new vector, and move accordingly.\n",
    "        \"\"\"\n",
    "        neighbors = self.model.space.get_neighbors(self.pos, self.vision, False)\n",
    "        self.velocity += (self.cohere(neighbors) * self.cohere_factor +\n",
    "                          self.separate(neighbors) * self.separate_factor +\n",
    "                          self.match_velocity(neighbors) * self.match_factor) / 2\n",
    "        self.velocity /= np.linalg.norm(self.velocity)\n",
    "        new_pos = self.pos + self.velocity * self.speed\n",
    "        self.model.space.move_agent(self, new_pos)"
   ]
  },
  {
   "cell_type": "code",
   "execution_count": 4,
   "metadata": {
    "collapsed": true
   },
   "outputs": [],
   "source": [
    "# Defines the collective behaviour model\n",
    "class ShoalModel(Model):\n",
    "    \"\"\" Shoal model class. Handles agent creation, placement and scheduling. \"\"\"\n",
    "\n",
    "    def __init__(self,\n",
    "                 population=100,\n",
    "                 width=100,\n",
    "                 height=100,\n",
    "                 speed=1,\n",
    "                 vision=10,\n",
    "                 separation=2,\n",
    "                 cohere=0.025,\n",
    "                 separate=0.25,\n",
    "                 match=0.04):\n",
    "        \"\"\"\n",
    "        Create a new Boids model. Args:\n",
    "            N: Number of Boids\n",
    "            width, height: Size of the space.\n",
    "            speed: how fast the boids should move.\n",
    "            vision: how far around should each Boid look for its neighbors\n",
    "            separation: what's the minimum distance each Boid will attempt to\n",
    "                        keep from any other\n",
    "            cohere, separate, match: factors for the relative importance of\n",
    "                                     the three drives.\n",
    "        \"\"\"\n",
    "        self.population = population\n",
    "        self.vision = vision\n",
    "        self.speed = speed\n",
    "        self.separation = separation\n",
    "        self.schedule = RandomActivation(self)\n",
    "        self.space = ContinuousSpace(width, height, True,\n",
    "                                     grid_width=10, grid_height=10)\n",
    "        self.factors = dict(cohere=cohere, separate=separate, match=match)\n",
    "        self.make_agents()\n",
    "        self.running = True\n",
    "\n",
    "    def make_agents(self):\n",
    "        \"\"\" \n",
    "        Create N agents, with random positions and starting velocities. \n",
    "        \"\"\"\n",
    "        for i in range(self.population):\n",
    "            x = random.random() * self.space.x_max\n",
    "            y = random.random() * self.space.y_max\n",
    "            pos = np.array((x, y))\n",
    "            velocity = np.random.random(2) * 2 - 1\n",
    "            fish = Fish(i, self, pos, self.speed, velocity, self.vision,\n",
    "                        self.separation, **self.factors)\n",
    "            self.space.place_agent(fish, pos)\n",
    "            self.schedule.add(fish)\n",
    "\n",
    "        self.datacollector = DataCollector(\n",
    "            model_reporters={\"Polarization\": polar})\n",
    "\n",
    "    def step(self):\n",
    "        self.datacollector.collect(self)\n",
    "        self.schedule.step()"
   ]
  },
  {
   "cell_type": "code",
   "execution_count": 5,
   "metadata": {
    "collapsed": true
   },
   "outputs": [],
   "source": [
    "# Runs the model with set parameters for 500 steps.\n",
    "for j in range(1):\n",
    "    model = \\\n",
    "        ShoalModel(population=100, width=100, height=100, speed=1, vision=10, separation=2)\n",
    "    for i in range(500):\n",
    "        model.step()"
   ]
  },
  {
   "cell_type": "code",
   "execution_count": 6,
   "metadata": {
    "collapsed": false
   },
   "outputs": [
    {
     "data": {
      "image/png": "[encoded data removed]",
      "text/plain": [
       "<matplotlib.figure.Figure at 0x109c9deb8>"
      ]
     },
     "metadata": {},
     "output_type": "display_data"
    }
   ],
   "source": [
    "# Plot cohesion factor\n",
    "%matplotlib inline\n",
    "\n",
    "polarization = model.datacollector.get_model_vars_dataframe()\n",
    "polarization.plot();"
   ]
  },
  {
   "cell_type": "code",
   "execution_count": 8,
   "metadata": {
    "collapsed": false
   },
   "outputs": [
    {
     "data": {
      "image/png": "[encoded data removed]",
      "text/plain": [
       "<matplotlib.figure.Figure at 0x10a5afdd8>"
      ]
     },
     "metadata": {},
     "output_type": "display_data"
    }
   ],
   "source": [
    "# Can change the parameters to see the affect on polarization\n",
    "model = ShoalModel(population=100, width=100, height=100, speed=1, vision=10, separation=2)\n",
    "for i in range(500):\n",
    "    model.step()\n",
    " \n",
    "# Plot cohesion factor   \n",
    "%matplotlib inline\n",
    "\n",
    "polarization = model.datacollector.get_model_vars_dataframe()\n",
    "polarization.plot();"
   ]
  },
  {
   "cell_type": "code",
   "execution_count": null,
   "metadata": {},
   "outputs": [],
   "source": [
    ""
   ]
  }
 ],
 "metadata": {
  "kernelspec": {
   "display_name": "Python 2",
   "language": "python",
   "name": "python2"
  },
  "language_info": {
   "codemirror_mode": {
    "name": "ipython",
    "version": 2.0
   },
   "file_extension": ".py",
   "mimetype": "text/x-python",
   "name": "python",
   "nbconvert_exporter": "python",
   "pygments_lexer": "ipython2",
   "version": "2.7.12"
  }
 },
 "nbformat": 4,
 "nbformat_minor": 0
}